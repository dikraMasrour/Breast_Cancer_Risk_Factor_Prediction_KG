{
  "cells": [
    {
      "cell_type": "markdown",
      "metadata": {
        "id": "view-in-github",
        "colab_type": "text"
      },
      "source": [
        "<a href=\"https://colab.research.google.com/github/dikraMasrour/Breast_Cancer_Risk_Factor_Prediction_KG/blob/main/Preproc_Modeling.ipynb\" target=\"_parent\"><img src=\"https://colab.research.google.com/assets/colab-badge.svg\" alt=\"Open In Colab\"/></a>"
      ]
    },
    {
      "cell_type": "markdown",
      "metadata": {
        "id": "rGAGns0cCtHK"
      },
      "source": [
        "## Breast cancer biomedical KG Preprocessing"
      ]
    },
    {
      "cell_type": "code",
      "execution_count": 1,
      "metadata": {
        "id": "g6w4CDVys4DB"
      },
      "outputs": [],
      "source": [
        "%%capture\n",
        "!pip install torchkge"
      ]
    },
    {
      "cell_type": "markdown",
      "metadata": {
        "id": "zCrxoym3Yrui"
      },
      "source": [
        "#### Mounting drive"
      ]
    },
    {
      "cell_type": "code",
      "execution_count": 2,
      "metadata": {
        "colab": {
          "base_uri": "https://localhost:8080/"
        },
        "id": "pq-xsYR32_Yw",
        "outputId": "1143aa88-97f7-476e-f1b3-f6c5847797fe"
      },
      "outputs": [
        {
          "output_type": "stream",
          "name": "stdout",
          "text": [
            "Drive already mounted at /content/drive; to attempt to forcibly remount, call drive.mount(\"/content/drive\", force_remount=True).\n"
          ]
        }
      ],
      "source": [
        "from google.colab import drive\n",
        "drive.mount('/content/drive')"
      ]
    },
    {
      "cell_type": "markdown",
      "metadata": {
        "id": "9SzHugFQYqZC"
      },
      "source": [
        "#### Imports"
      ]
    },
    {
      "cell_type": "code",
      "execution_count": 3,
      "metadata": {
        "colab": {
          "base_uri": "https://localhost:8080/"
        },
        "id": "zPGZsp_8smjJ",
        "outputId": "43790d89-62e5-4b25-946d-f435cd21b742"
      },
      "outputs": [
        {
          "output_type": "stream",
          "name": "stderr",
          "text": [
            "<ipython-input-3-ab71943a612b>:7: TqdmExperimentalWarning: Using `tqdm.autonotebook.tqdm` in notebook mode. Use `tqdm.tqdm` instead to force console mode (e.g. in jupyter console)\n",
            "  from tqdm.autonotebook import tqdm\n"
          ]
        }
      ],
      "source": [
        "# basics\n",
        "import pandas as pd\n",
        "import numpy as np\n",
        "from os.path import join\n",
        "from os import makedirs, remove\n",
        "from os.path import exists\n",
        "from tqdm.autonotebook import tqdm\n",
        "import pickle\n",
        "import gc\n",
        "\n",
        "# torchkge related\n",
        "import torch\n",
        "from torch import cuda\n",
        "from torch.optim import Adam\n",
        "from torchkge.models import TransEModel\n",
        "from torchkge.sampling import BernoulliNegativeSampler\n",
        "from torchkge.utils import MarginLoss, DataLoader\n",
        "from torchkge.data_structures import KnowledgeGraph\n",
        "from torchkge.utils import get_data_home\n",
        "from torchkge.utils.operations import extend_dicts\n",
        "from torchkge.evaluation import LinkPredictionEvaluator\n",
        "\n",
        "MODEL_PATH = '/content/drive/MyDrive/Colab Notebooks/KG_breast_cancer/models'"
      ]
    },
    {
      "cell_type": "code",
      "execution_count": 4,
      "metadata": {
        "colab": {
          "base_uri": "https://localhost:8080/"
        },
        "id": "DwNulX_2twgG",
        "outputId": "24d5c2c6-5057-4cd9-a30a-4669a0a478db"
      },
      "outputs": [
        {
          "output_type": "execute_result",
          "data": {
            "text/plain": [
              "device(type='cuda')"
            ]
          },
          "metadata": {},
          "execution_count": 4
        }
      ],
      "source": [
        "# set up cuda if available\n",
        "device = torch.device(\"cuda\" if torch.cuda.is_available() else \"cpu\")\n",
        "device"
      ]
    },
    {
      "cell_type": "code",
      "execution_count": null,
      "metadata": {
        "colab": {
          "base_uri": "https://localhost:8080/",
          "height": 206
        },
        "id": "furUAEJm8qYw",
        "outputId": "4a815029-53fd-496c-a441-52778a771a40"
      },
      "outputs": [
        {
          "data": {
            "text/html": [
              "\n",
              "  <div id=\"df-50c82cfe-6c85-46fe-8aba-56cff1af7586\">\n",
              "    <div class=\"colab-df-container\">\n",
              "      <div>\n",
              "<style scoped>\n",
              "    .dataframe tbody tr th:only-of-type {\n",
              "        vertical-align: middle;\n",
              "    }\n",
              "\n",
              "    .dataframe tbody tr th {\n",
              "        vertical-align: top;\n",
              "    }\n",
              "\n",
              "    .dataframe thead th {\n",
              "        text-align: right;\n",
              "    }\n",
              "</style>\n",
              "<table border=\"1\" class=\"dataframe\">\n",
              "  <thead>\n",
              "    <tr style=\"text-align: right;\">\n",
              "      <th></th>\n",
              "      <th>rel</th>\n",
              "      <th>from</th>\n",
              "      <th>to</th>\n",
              "    </tr>\n",
              "  </thead>\n",
              "  <tbody>\n",
              "    <tr>\n",
              "      <th>2</th>\n",
              "      <td>ISA</td>\n",
              "      <td>C0318627</td>\n",
              "      <td>C0206590</td>\n",
              "    </tr>\n",
              "    <tr>\n",
              "      <th>3</th>\n",
              "      <td>ISA</td>\n",
              "      <td>C0446169</td>\n",
              "      <td>C0003725</td>\n",
              "    </tr>\n",
              "    <tr>\n",
              "      <th>4</th>\n",
              "      <td>PROCESS_OF</td>\n",
              "      <td>C0012634</td>\n",
              "      <td>C0020114</td>\n",
              "    </tr>\n",
              "    <tr>\n",
              "      <th>5</th>\n",
              "      <td>CAUSES</td>\n",
              "      <td>C0042776</td>\n",
              "      <td>C0012634</td>\n",
              "    </tr>\n",
              "    <tr>\n",
              "      <th>12</th>\n",
              "      <td>PRODUCES</td>\n",
              "      <td>C0007523</td>\n",
              "      <td>C0019878</td>\n",
              "    </tr>\n",
              "  </tbody>\n",
              "</table>\n",
              "</div>\n",
              "      <button class=\"colab-df-convert\" onclick=\"convertToInteractive('df-50c82cfe-6c85-46fe-8aba-56cff1af7586')\"\n",
              "              title=\"Convert this dataframe to an interactive table.\"\n",
              "              style=\"display:none;\">\n",
              "        \n",
              "  <svg xmlns=\"http://www.w3.org/2000/svg\" height=\"24px\"viewBox=\"0 0 24 24\"\n",
              "       width=\"24px\">\n",
              "    <path d=\"M0 0h24v24H0V0z\" fill=\"none\"/>\n",
              "    <path d=\"M18.56 5.44l.94 2.06.94-2.06 2.06-.94-2.06-.94-.94-2.06-.94 2.06-2.06.94zm-11 1L8.5 8.5l.94-2.06 2.06-.94-2.06-.94L8.5 2.5l-.94 2.06-2.06.94zm10 10l.94 2.06.94-2.06 2.06-.94-2.06-.94-.94-2.06-.94 2.06-2.06.94z\"/><path d=\"M17.41 7.96l-1.37-1.37c-.4-.4-.92-.59-1.43-.59-.52 0-1.04.2-1.43.59L10.3 9.45l-7.72 7.72c-.78.78-.78 2.05 0 2.83L4 21.41c.39.39.9.59 1.41.59.51 0 1.02-.2 1.41-.59l7.78-7.78 2.81-2.81c.8-.78.8-2.07 0-2.86zM5.41 20L4 18.59l7.72-7.72 1.47 1.35L5.41 20z\"/>\n",
              "  </svg>\n",
              "      </button>\n",
              "      \n",
              "  <style>\n",
              "    .colab-df-container {\n",
              "      display:flex;\n",
              "      flex-wrap:wrap;\n",
              "      gap: 12px;\n",
              "    }\n",
              "\n",
              "    .colab-df-convert {\n",
              "      background-color: #E8F0FE;\n",
              "      border: none;\n",
              "      border-radius: 50%;\n",
              "      cursor: pointer;\n",
              "      display: none;\n",
              "      fill: #1967D2;\n",
              "      height: 32px;\n",
              "      padding: 0 0 0 0;\n",
              "      width: 32px;\n",
              "    }\n",
              "\n",
              "    .colab-df-convert:hover {\n",
              "      background-color: #E2EBFA;\n",
              "      box-shadow: 0px 1px 2px rgba(60, 64, 67, 0.3), 0px 1px 3px 1px rgba(60, 64, 67, 0.15);\n",
              "      fill: #174EA6;\n",
              "    }\n",
              "\n",
              "    [theme=dark] .colab-df-convert {\n",
              "      background-color: #3B4455;\n",
              "      fill: #D2E3FC;\n",
              "    }\n",
              "\n",
              "    [theme=dark] .colab-df-convert:hover {\n",
              "      background-color: #434B5C;\n",
              "      box-shadow: 0px 1px 3px 1px rgba(0, 0, 0, 0.15);\n",
              "      filter: drop-shadow(0px 1px 2px rgba(0, 0, 0, 0.3));\n",
              "      fill: #FFFFFF;\n",
              "    }\n",
              "  </style>\n",
              "\n",
              "      <script>\n",
              "        const buttonEl =\n",
              "          document.querySelector('#df-50c82cfe-6c85-46fe-8aba-56cff1af7586 button.colab-df-convert');\n",
              "        buttonEl.style.display =\n",
              "          google.colab.kernel.accessAllowed ? 'block' : 'none';\n",
              "\n",
              "        async function convertToInteractive(key) {\n",
              "          const element = document.querySelector('#df-50c82cfe-6c85-46fe-8aba-56cff1af7586');\n",
              "          const dataTable =\n",
              "            await google.colab.kernel.invokeFunction('convertToInteractive',\n",
              "                                                     [key], {});\n",
              "          if (!dataTable) return;\n",
              "\n",
              "          const docLinkHtml = 'Like what you see? Visit the ' +\n",
              "            '<a target=\"_blank\" href=https://colab.research.google.com/notebooks/data_table.ipynb>data table notebook</a>'\n",
              "            + ' to learn more about interactive tables.';\n",
              "          element.innerHTML = '';\n",
              "          dataTable['output_type'] = 'display_data';\n",
              "          await google.colab.output.renderOutput(dataTable, element);\n",
              "          const docLink = document.createElement('div');\n",
              "          docLink.innerHTML = docLinkHtml;\n",
              "          element.appendChild(docLink);\n",
              "        }\n",
              "      </script>\n",
              "    </div>\n",
              "  </div>\n",
              "  "
            ],
            "text/plain": [
              "           rel      from        to\n",
              "2          ISA  C0318627  C0206590\n",
              "3          ISA  C0446169  C0003725\n",
              "4   PROCESS_OF  C0012634  C0020114\n",
              "5       CAUSES  C0042776  C0012634\n",
              "12    PRODUCES  C0007523  C0019878"
            ]
          },
          "execution_count": 5,
          "metadata": {},
          "output_type": "execute_result"
        }
      ],
      "source": [
        "dataPath = \"/content/drive/MyDrive/Colab Notebooks/KG_breast_cancer/preprocessed_KG.pkl\"\n",
        "df = pd.read_pickle(dataPath)\n",
        "df.head()"
      ]
    },
    {
      "cell_type": "code",
      "execution_count": null,
      "metadata": {
        "colab": {
          "base_uri": "https://localhost:8080/"
        },
        "id": "vDEZCznSCfr8",
        "outputId": "bc7fb036-7abd-494b-fb03-b57006775664"
      },
      "outputs": [
        {
          "data": {
            "text/plain": [
              "(8279795, 3)"
            ]
          },
          "execution_count": 6,
          "metadata": {},
          "output_type": "execute_result"
        }
      ],
      "source": [
        "df.shape"
      ]
    },
    {
      "cell_type": "code",
      "execution_count": null,
      "metadata": {
        "id": "OTXsmkxZ5_pi"
      },
      "outputs": [],
      "source": [
        "def split(df_):\n",
        "    # group by is used, so the model is able to train on all the nodes\n",
        "    train_df = df_.groupby(['from', 'to']).sample(frac = 0.8) # samples triples from each group\n",
        "    test_val = df_[~df_.index.isin(train_df.index)]\n",
        "    test_df = df_.sample(frac = 0.5)\n",
        "    val_df = test_val[~test_val.index.isin(test_df.index)]\n",
        "    print(train_df.shape, test_df.shape, val_df.shape)\n",
        "    return train_df, test_df, val_df\n"
      ]
    },
    {
      "cell_type": "code",
      "execution_count": null,
      "metadata": {
        "colab": {
          "base_uri": "https://localhost:8080/"
        },
        "id": "GIFeWSor9cWX",
        "outputId": "bf0b3f32-f8c5-4026-aa51-f35d1e03d9a4"
      },
      "outputs": [
        {
          "name": "stdout",
          "output_type": "stream",
          "text": [
            "(7192092, 3) (4139898, 3) (543861, 3)\n"
          ]
        }
      ],
      "source": [
        "# RUN ONCE\n",
        "train_df, test_df, val_df = split(df)"
      ]
    },
    {
      "cell_type": "code",
      "execution_count": null,
      "metadata": {
        "id": "q7z2tWxyY0LM"
      },
      "outputs": [],
      "source": [
        "# RUN ONCE : save splits as pickle files\n",
        "train_df.to_pickle('/content/drive/MyDrive/Colab Notebooks/KG_breast_cancer/splits/train_df.pkl')\n",
        "test_df.to_pickle('/content/drive/MyDrive/Colab Notebooks/KG_breast_cancer/splits/test_df.pkl')\n",
        "val_df.to_pickle('/content/drive/MyDrive/Colab Notebooks/KG_breast_cancer/splits/val_df.pkl')"
      ]
    },
    {
      "cell_type": "code",
      "execution_count": null,
      "metadata": {
        "colab": {
          "base_uri": "https://localhost:8080/"
        },
        "id": "fblwuG_wGQ6o",
        "outputId": "fea6ef19-7516-4d8b-a638-c9dfcb017b29"
      },
      "outputs": [
        {
          "data": {
            "text/plain": [
              "0"
            ]
          },
          "execution_count": 8,
          "metadata": {},
          "output_type": "execute_result"
        }
      ],
      "source": [
        "gc.collect()"
      ]
    },
    {
      "cell_type": "code",
      "execution_count": 5,
      "metadata": {
        "id": "Rx1hLclp5Vx9"
      },
      "outputs": [],
      "source": [
        "def load_kgs_from_df(data_home=None):\n",
        "    data_home = '/content/drive/MyDrive/Colab Notebooks/KG_breast_cancer/splits'\n",
        "    df1 = pd.read_pickle(data_home + '/train_df.pkl')\n",
        "    df2 = pd.read_pickle(data_home + '/val_df.pkl')\n",
        "    df3 = pd.read_pickle(data_home + '/test_df.pkl')\n",
        "    df = pd.concat([df1, df2, df3])\n",
        "    kg = KnowledgeGraph(df)\n",
        "\n",
        "    return kg.split_kg(sizes=(len(df1), len(df2), len(df3)))"
      ]
    },
    {
      "cell_type": "code",
      "execution_count": 6,
      "metadata": {
        "id": "klARWDq2FRq_"
      },
      "outputs": [],
      "source": [
        "# RUN ONCE\n",
        "kg_train, kg_val, kg_test = load_kgs_from_df()"
      ]
    },
    {
      "cell_type": "code",
      "execution_count": 7,
      "metadata": {
        "colab": {
          "base_uri": "https://localhost:8080/"
        },
        "id": "Alf5K9uLJY9W",
        "outputId": "e5079fbd-69da-41ee-8cea-b902d584dde2"
      },
      "outputs": [
        {
          "output_type": "execute_result",
          "data": {
            "text/plain": [
              "0"
            ]
          },
          "metadata": {},
          "execution_count": 7
        }
      ],
      "source": [
        "gc.collect()"
      ]
    },
    {
      "cell_type": "code",
      "execution_count": 8,
      "metadata": {
        "id": "31lvZ25ttXOJ"
      },
      "outputs": [],
      "source": [
        "class TrainLoop():\n",
        "    def __init__(self, args , kg_train, kg_val, kg_test):\n",
        "        self.n_epochs = args.n_epochs\n",
        "        self.kg_train, self.kg_val, self.kg_test = kg_train, kg_val, kg_test\n",
        "        self.train_dataloader = DataLoader(kg_train, batch_size=args.b_size, use_cuda='all')\n",
        "        self.val_dataloader = DataLoader(kg_val, batch_size=args.b_size, use_cuda='all')\n",
        "        self.test_dataloader = DataLoader(kg_test, batch_size=args.b_size, use_cuda='all')\n",
        "        self.model_path = args.model_path\n",
        "        self.model = TransEModel(args.emb_dim, kg_train.n_ent, kg_train.n_rel, dissimilarity_type='L2')\n",
        "        self.criterion = MarginLoss(args.margin)\n",
        "        # Move everything to CUDA if available\n",
        "        if cuda.is_available():\n",
        "            cuda.empty_cache()\n",
        "            self.model.cuda()\n",
        "            self.criterion.cuda()\n",
        "\n",
        "        # Define the torch optimizer to be used\n",
        "        self.optimizer = Adam(self.model.parameters(), lr=args.lr, weight_decay=1e-5)\n",
        "\n",
        "        self.sampler = BernoulliNegativeSampler(self.kg_train)\n",
        "\n",
        "    def fit_step(self):\n",
        "        running_loss = 0.0\n",
        "        for i, batch in enumerate(self.train_dataloader):\n",
        "            h, t, r = batch[0].to(device), batch[1].to(device), batch[2].to(device)\n",
        "            n_h, n_t = self.sampler.corrupt_batch(h.to('cpu'), t.to('cpu'), r.to('cpu'))\n",
        "            n_h, n_t = n_h.to(device), n_t.to(device)\n",
        "            self.optimizer.zero_grad()\n",
        "\n",
        "            # forward + backward + optimize\n",
        "            pos, neg = self.model(h, t, r, n_h, n_t)\n",
        "            loss = self.criterion(pos, neg)\n",
        "            loss.backward()\n",
        "            self.optimizer.step()\n",
        "\n",
        "            running_loss += loss.item()\n",
        "        return running_loss\n",
        "    def test_step(self):\n",
        "        self.model = torch.load(self.model_path)\n",
        "        self.model.eval()\n",
        "        evaluator = LinkPredictionEvaluator(self.model, self.kg_test)\n",
        "        evaluator.evaluate(200, verbose=True)\n",
        "        evaluator.print_results()\n",
        "\n",
        "    def eval_step(self):\n",
        "        evaluator = LinkPredictionEvaluator(self.model, self.kg_val)\n",
        "        evaluator.evaluate(200, verbose=False)\n",
        "        return evaluator.mrr()[1]\n",
        "\n",
        "    def fit(self):\n",
        "        iterator = tqdm(range(self.n_epochs), unit='epoch')\n",
        "        best_val = -np.inf\n",
        "        patience= 10\n",
        "        patience_count = 0\n",
        "        for epoch in iterator:\n",
        "            running_loss = self.fit_step()\n",
        "            val_ = self.eval_step()\n",
        "\n",
        "            if val_> best_val:\n",
        "                best_val = val_\n",
        "                torch.save(self.model, self.model_path)\n",
        "                patience_count = 0\n",
        "            else:\n",
        "                if patience_count == patience:\n",
        "                    break\n",
        "                else:\n",
        "                    patience_count += 1\n",
        "\n",
        "            iterator.set_description(\n",
        "                'Epoch {} | mean loss: {:.5f}'.format(epoch + 1,\n",
        "                                                      running_loss / len(self.train_dataloader)))\n",
        "\n",
        "        self.model.normalize_parameters()"
      ]
    },
    {
      "cell_type": "code",
      "execution_count": 9,
      "metadata": {
        "id": "cbhAR99GzAcc"
      },
      "outputs": [],
      "source": [
        "class Params():\n",
        "    def __init__(self):\n",
        "        pass"
      ]
    },
    {
      "cell_type": "code",
      "execution_count": 10,
      "metadata": {
        "id": "9rBQ-lsUy80h"
      },
      "outputs": [],
      "source": [
        "args = Params()"
      ]
    },
    {
      "cell_type": "code",
      "execution_count": 11,
      "metadata": {
        "id": "wnzL4x3BzKdq"
      },
      "outputs": [],
      "source": [
        "args.emb_dim = 100\n",
        "args.lr = 0.0004\n",
        "args.n_epochs = 1000\n",
        "args.b_size = 32\n",
        "args.margin = 0.5\n",
        "args.model_path = join(MODEL_PATH, \"basic.bt\")"
      ]
    },
    {
      "cell_type": "code",
      "execution_count": 12,
      "metadata": {
        "id": "Ah_LuvIvy6_H"
      },
      "outputs": [],
      "source": [
        "tloop = TrainLoop(args, kg_train, kg_val, kg_test)"
      ]
    },
    {
      "cell_type": "code",
      "execution_count": 13,
      "metadata": {
        "colab": {
          "base_uri": "https://localhost:8080/"
        },
        "id": "AxVgDUTmNLYi",
        "outputId": "942e6d0b-271f-4a72-e12b-573683ac49a4"
      },
      "outputs": [
        {
          "output_type": "execute_result",
          "data": {
            "text/plain": [
              "0"
            ]
          },
          "metadata": {},
          "execution_count": 13
        }
      ],
      "source": [
        "gc.collect()"
      ]
    },
    {
      "cell_type": "code",
      "execution_count": 14,
      "metadata": {
        "colab": {
          "base_uri": "https://localhost:8080/",
          "height": 343,
          "referenced_widgets": [
            "3dcfc7bc2d2943d3a56844608ba7e5a2",
            "7d55850edf144495914e8592c1b35b46",
            "4e4ea08fcf304f5f9466ffa22ae2bd21",
            "a3f06899d8184c9ea7623fdc3e717497",
            "4b53f43ea9f9406fa7482b96f59208b4",
            "54884545ae744183af3d80db2cf41385",
            "b415642661e44c9dbe6510f947782601",
            "073b565c7d994ece9d402129c53edbcc",
            "8eab813d74d64bbd933f388e124c998c",
            "b649252649664ab4831afa4f2f39b0b4",
            "9b331d36c8834cd19adc68b371db69ff"
          ]
        },
        "id": "_lcx2uLR0tEP",
        "outputId": "743c695c-60e3-4f5c-8d00-c267ec34276c"
      },
      "outputs": [
        {
          "output_type": "display_data",
          "data": {
            "text/plain": [
              "  0%|          | 0/1000 [00:00<?, ?epoch/s]"
            ],
            "application/vnd.jupyter.widget-view+json": {
              "version_major": 2,
              "version_minor": 0,
              "model_id": "3dcfc7bc2d2943d3a56844608ba7e5a2"
            }
          },
          "metadata": {}
        },
        {
          "output_type": "error",
          "ename": "KeyboardInterrupt",
          "evalue": "ignored",
          "traceback": [
            "\u001b[0;31m---------------------------------------------------------------------------\u001b[0m",
            "\u001b[0;31mKeyboardInterrupt\u001b[0m                         Traceback (most recent call last)",
            "\u001b[0;32m<ipython-input-14-ecf95c4608d8>\u001b[0m in \u001b[0;36m<module>\u001b[0;34m\u001b[0m\n\u001b[0;32m----> 1\u001b[0;31m \u001b[0mtloop\u001b[0m\u001b[0;34m.\u001b[0m\u001b[0mfit\u001b[0m\u001b[0;34m(\u001b[0m\u001b[0;34m)\u001b[0m\u001b[0;34m\u001b[0m\u001b[0;34m\u001b[0m\u001b[0m\n\u001b[0m",
            "\u001b[0;32m<ipython-input-8-41fd250f4908>\u001b[0m in \u001b[0;36mfit\u001b[0;34m(self)\u001b[0m\n\u001b[1;32m     54\u001b[0m         \u001b[0mpatience_count\u001b[0m \u001b[0;34m=\u001b[0m \u001b[0;36m0\u001b[0m\u001b[0;34m\u001b[0m\u001b[0;34m\u001b[0m\u001b[0m\n\u001b[1;32m     55\u001b[0m         \u001b[0;32mfor\u001b[0m \u001b[0mepoch\u001b[0m \u001b[0;32min\u001b[0m \u001b[0miterator\u001b[0m\u001b[0;34m:\u001b[0m\u001b[0;34m\u001b[0m\u001b[0;34m\u001b[0m\u001b[0m\n\u001b[0;32m---> 56\u001b[0;31m             \u001b[0mrunning_loss\u001b[0m \u001b[0;34m=\u001b[0m \u001b[0mself\u001b[0m\u001b[0;34m.\u001b[0m\u001b[0mfit_step\u001b[0m\u001b[0;34m(\u001b[0m\u001b[0;34m)\u001b[0m\u001b[0;34m\u001b[0m\u001b[0;34m\u001b[0m\u001b[0m\n\u001b[0m\u001b[1;32m     57\u001b[0m             \u001b[0mval_\u001b[0m \u001b[0;34m=\u001b[0m \u001b[0mself\u001b[0m\u001b[0;34m.\u001b[0m\u001b[0meval_step\u001b[0m\u001b[0;34m(\u001b[0m\u001b[0;34m)\u001b[0m\u001b[0;34m\u001b[0m\u001b[0;34m\u001b[0m\u001b[0m\n\u001b[1;32m     58\u001b[0m \u001b[0;34m\u001b[0m\u001b[0m\n",
            "\u001b[0;32m<ipython-input-8-41fd250f4908>\u001b[0m in \u001b[0;36mfit_step\u001b[0;34m(self)\u001b[0m\n\u001b[1;32m     34\u001b[0m             \u001b[0mself\u001b[0m\u001b[0;34m.\u001b[0m\u001b[0moptimizer\u001b[0m\u001b[0;34m.\u001b[0m\u001b[0mstep\u001b[0m\u001b[0;34m(\u001b[0m\u001b[0;34m)\u001b[0m\u001b[0;34m\u001b[0m\u001b[0;34m\u001b[0m\u001b[0m\n\u001b[1;32m     35\u001b[0m \u001b[0;34m\u001b[0m\u001b[0m\n\u001b[0;32m---> 36\u001b[0;31m             \u001b[0mrunning_loss\u001b[0m \u001b[0;34m+=\u001b[0m \u001b[0mloss\u001b[0m\u001b[0;34m.\u001b[0m\u001b[0mitem\u001b[0m\u001b[0;34m(\u001b[0m\u001b[0;34m)\u001b[0m\u001b[0;34m\u001b[0m\u001b[0;34m\u001b[0m\u001b[0m\n\u001b[0m\u001b[1;32m     37\u001b[0m         \u001b[0;32mreturn\u001b[0m \u001b[0mrunning_loss\u001b[0m\u001b[0;34m\u001b[0m\u001b[0;34m\u001b[0m\u001b[0m\n\u001b[1;32m     38\u001b[0m     \u001b[0;32mdef\u001b[0m \u001b[0mtest_step\u001b[0m\u001b[0;34m(\u001b[0m\u001b[0mself\u001b[0m\u001b[0;34m)\u001b[0m\u001b[0;34m:\u001b[0m\u001b[0;34m\u001b[0m\u001b[0;34m\u001b[0m\u001b[0m\n",
            "\u001b[0;31mKeyboardInterrupt\u001b[0m: "
          ]
        }
      ],
      "source": [
        "tloop.fit()"
      ]
    },
    {
      "cell_type": "code",
      "execution_count": null,
      "metadata": {
        "id": "LhQgeBqm0aS8"
      },
      "outputs": [],
      "source": [
        "tloop.test_step()"
      ]
    }
  ],
  "metadata": {
    "accelerator": "TPU",
    "colab": {
      "provenance": [],
      "mount_file_id": "1F9cAEOi46tF6vbzLKuQdjoptFIRxDEuc",
      "authorship_tag": "ABX9TyMfYEywK9o0EhDK6AMy1kWc",
      "include_colab_link": true
    },
    "gpuClass": "standard",
    "kernelspec": {
      "display_name": "Python 3",
      "name": "python3"
    },
    "language_info": {
      "name": "python"
    },
    "widgets": {
      "application/vnd.jupyter.widget-state+json": {
        "3dcfc7bc2d2943d3a56844608ba7e5a2": {
          "model_module": "@jupyter-widgets/controls",
          "model_name": "HBoxModel",
          "model_module_version": "1.5.0",
          "state": {
            "_dom_classes": [],
            "_model_module": "@jupyter-widgets/controls",
            "_model_module_version": "1.5.0",
            "_model_name": "HBoxModel",
            "_view_count": null,
            "_view_module": "@jupyter-widgets/controls",
            "_view_module_version": "1.5.0",
            "_view_name": "HBoxView",
            "box_style": "",
            "children": [
              "IPY_MODEL_7d55850edf144495914e8592c1b35b46",
              "IPY_MODEL_4e4ea08fcf304f5f9466ffa22ae2bd21",
              "IPY_MODEL_a3f06899d8184c9ea7623fdc3e717497"
            ],
            "layout": "IPY_MODEL_4b53f43ea9f9406fa7482b96f59208b4"
          }
        },
        "7d55850edf144495914e8592c1b35b46": {
          "model_module": "@jupyter-widgets/controls",
          "model_name": "HTMLModel",
          "model_module_version": "1.5.0",
          "state": {
            "_dom_classes": [],
            "_model_module": "@jupyter-widgets/controls",
            "_model_module_version": "1.5.0",
            "_model_name": "HTMLModel",
            "_view_count": null,
            "_view_module": "@jupyter-widgets/controls",
            "_view_module_version": "1.5.0",
            "_view_name": "HTMLView",
            "description": "",
            "description_tooltip": null,
            "layout": "IPY_MODEL_54884545ae744183af3d80db2cf41385",
            "placeholder": "​",
            "style": "IPY_MODEL_b415642661e44c9dbe6510f947782601",
            "value": "  0%"
          }
        },
        "4e4ea08fcf304f5f9466ffa22ae2bd21": {
          "model_module": "@jupyter-widgets/controls",
          "model_name": "FloatProgressModel",
          "model_module_version": "1.5.0",
          "state": {
            "_dom_classes": [],
            "_model_module": "@jupyter-widgets/controls",
            "_model_module_version": "1.5.0",
            "_model_name": "FloatProgressModel",
            "_view_count": null,
            "_view_module": "@jupyter-widgets/controls",
            "_view_module_version": "1.5.0",
            "_view_name": "ProgressView",
            "bar_style": "danger",
            "description": "",
            "description_tooltip": null,
            "layout": "IPY_MODEL_073b565c7d994ece9d402129c53edbcc",
            "max": 1000,
            "min": 0,
            "orientation": "horizontal",
            "style": "IPY_MODEL_8eab813d74d64bbd933f388e124c998c",
            "value": 0
          }
        },
        "a3f06899d8184c9ea7623fdc3e717497": {
          "model_module": "@jupyter-widgets/controls",
          "model_name": "HTMLModel",
          "model_module_version": "1.5.0",
          "state": {
            "_dom_classes": [],
            "_model_module": "@jupyter-widgets/controls",
            "_model_module_version": "1.5.0",
            "_model_name": "HTMLModel",
            "_view_count": null,
            "_view_module": "@jupyter-widgets/controls",
            "_view_module_version": "1.5.0",
            "_view_name": "HTMLView",
            "description": "",
            "description_tooltip": null,
            "layout": "IPY_MODEL_b649252649664ab4831afa4f2f39b0b4",
            "placeholder": "​",
            "style": "IPY_MODEL_9b331d36c8834cd19adc68b371db69ff",
            "value": " 0/1000 [33:48&lt;?, ?epoch/s]"
          }
        },
        "4b53f43ea9f9406fa7482b96f59208b4": {
          "model_module": "@jupyter-widgets/base",
          "model_name": "LayoutModel",
          "model_module_version": "1.2.0",
          "state": {
            "_model_module": "@jupyter-widgets/base",
            "_model_module_version": "1.2.0",
            "_model_name": "LayoutModel",
            "_view_count": null,
            "_view_module": "@jupyter-widgets/base",
            "_view_module_version": "1.2.0",
            "_view_name": "LayoutView",
            "align_content": null,
            "align_items": null,
            "align_self": null,
            "border": null,
            "bottom": null,
            "display": null,
            "flex": null,
            "flex_flow": null,
            "grid_area": null,
            "grid_auto_columns": null,
            "grid_auto_flow": null,
            "grid_auto_rows": null,
            "grid_column": null,
            "grid_gap": null,
            "grid_row": null,
            "grid_template_areas": null,
            "grid_template_columns": null,
            "grid_template_rows": null,
            "height": null,
            "justify_content": null,
            "justify_items": null,
            "left": null,
            "margin": null,
            "max_height": null,
            "max_width": null,
            "min_height": null,
            "min_width": null,
            "object_fit": null,
            "object_position": null,
            "order": null,
            "overflow": null,
            "overflow_x": null,
            "overflow_y": null,
            "padding": null,
            "right": null,
            "top": null,
            "visibility": null,
            "width": null
          }
        },
        "54884545ae744183af3d80db2cf41385": {
          "model_module": "@jupyter-widgets/base",
          "model_name": "LayoutModel",
          "model_module_version": "1.2.0",
          "state": {
            "_model_module": "@jupyter-widgets/base",
            "_model_module_version": "1.2.0",
            "_model_name": "LayoutModel",
            "_view_count": null,
            "_view_module": "@jupyter-widgets/base",
            "_view_module_version": "1.2.0",
            "_view_name": "LayoutView",
            "align_content": null,
            "align_items": null,
            "align_self": null,
            "border": null,
            "bottom": null,
            "display": null,
            "flex": null,
            "flex_flow": null,
            "grid_area": null,
            "grid_auto_columns": null,
            "grid_auto_flow": null,
            "grid_auto_rows": null,
            "grid_column": null,
            "grid_gap": null,
            "grid_row": null,
            "grid_template_areas": null,
            "grid_template_columns": null,
            "grid_template_rows": null,
            "height": null,
            "justify_content": null,
            "justify_items": null,
            "left": null,
            "margin": null,
            "max_height": null,
            "max_width": null,
            "min_height": null,
            "min_width": null,
            "object_fit": null,
            "object_position": null,
            "order": null,
            "overflow": null,
            "overflow_x": null,
            "overflow_y": null,
            "padding": null,
            "right": null,
            "top": null,
            "visibility": null,
            "width": null
          }
        },
        "b415642661e44c9dbe6510f947782601": {
          "model_module": "@jupyter-widgets/controls",
          "model_name": "DescriptionStyleModel",
          "model_module_version": "1.5.0",
          "state": {
            "_model_module": "@jupyter-widgets/controls",
            "_model_module_version": "1.5.0",
            "_model_name": "DescriptionStyleModel",
            "_view_count": null,
            "_view_module": "@jupyter-widgets/base",
            "_view_module_version": "1.2.0",
            "_view_name": "StyleView",
            "description_width": ""
          }
        },
        "073b565c7d994ece9d402129c53edbcc": {
          "model_module": "@jupyter-widgets/base",
          "model_name": "LayoutModel",
          "model_module_version": "1.2.0",
          "state": {
            "_model_module": "@jupyter-widgets/base",
            "_model_module_version": "1.2.0",
            "_model_name": "LayoutModel",
            "_view_count": null,
            "_view_module": "@jupyter-widgets/base",
            "_view_module_version": "1.2.0",
            "_view_name": "LayoutView",
            "align_content": null,
            "align_items": null,
            "align_self": null,
            "border": null,
            "bottom": null,
            "display": null,
            "flex": null,
            "flex_flow": null,
            "grid_area": null,
            "grid_auto_columns": null,
            "grid_auto_flow": null,
            "grid_auto_rows": null,
            "grid_column": null,
            "grid_gap": null,
            "grid_row": null,
            "grid_template_areas": null,
            "grid_template_columns": null,
            "grid_template_rows": null,
            "height": null,
            "justify_content": null,
            "justify_items": null,
            "left": null,
            "margin": null,
            "max_height": null,
            "max_width": null,
            "min_height": null,
            "min_width": null,
            "object_fit": null,
            "object_position": null,
            "order": null,
            "overflow": null,
            "overflow_x": null,
            "overflow_y": null,
            "padding": null,
            "right": null,
            "top": null,
            "visibility": null,
            "width": null
          }
        },
        "8eab813d74d64bbd933f388e124c998c": {
          "model_module": "@jupyter-widgets/controls",
          "model_name": "ProgressStyleModel",
          "model_module_version": "1.5.0",
          "state": {
            "_model_module": "@jupyter-widgets/controls",
            "_model_module_version": "1.5.0",
            "_model_name": "ProgressStyleModel",
            "_view_count": null,
            "_view_module": "@jupyter-widgets/base",
            "_view_module_version": "1.2.0",
            "_view_name": "StyleView",
            "bar_color": null,
            "description_width": ""
          }
        },
        "b649252649664ab4831afa4f2f39b0b4": {
          "model_module": "@jupyter-widgets/base",
          "model_name": "LayoutModel",
          "model_module_version": "1.2.0",
          "state": {
            "_model_module": "@jupyter-widgets/base",
            "_model_module_version": "1.2.0",
            "_model_name": "LayoutModel",
            "_view_count": null,
            "_view_module": "@jupyter-widgets/base",
            "_view_module_version": "1.2.0",
            "_view_name": "LayoutView",
            "align_content": null,
            "align_items": null,
            "align_self": null,
            "border": null,
            "bottom": null,
            "display": null,
            "flex": null,
            "flex_flow": null,
            "grid_area": null,
            "grid_auto_columns": null,
            "grid_auto_flow": null,
            "grid_auto_rows": null,
            "grid_column": null,
            "grid_gap": null,
            "grid_row": null,
            "grid_template_areas": null,
            "grid_template_columns": null,
            "grid_template_rows": null,
            "height": null,
            "justify_content": null,
            "justify_items": null,
            "left": null,
            "margin": null,
            "max_height": null,
            "max_width": null,
            "min_height": null,
            "min_width": null,
            "object_fit": null,
            "object_position": null,
            "order": null,
            "overflow": null,
            "overflow_x": null,
            "overflow_y": null,
            "padding": null,
            "right": null,
            "top": null,
            "visibility": null,
            "width": null
          }
        },
        "9b331d36c8834cd19adc68b371db69ff": {
          "model_module": "@jupyter-widgets/controls",
          "model_name": "DescriptionStyleModel",
          "model_module_version": "1.5.0",
          "state": {
            "_model_module": "@jupyter-widgets/controls",
            "_model_module_version": "1.5.0",
            "_model_name": "DescriptionStyleModel",
            "_view_count": null,
            "_view_module": "@jupyter-widgets/base",
            "_view_module_version": "1.2.0",
            "_view_name": "StyleView",
            "description_width": ""
          }
        }
      }
    }
  },
  "nbformat": 4,
  "nbformat_minor": 0
}