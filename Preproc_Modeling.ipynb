{
  "nbformat": 4,
  "nbformat_minor": 0,
  "metadata": {
    "colab": {
      "provenance": [],
      "mount_file_id": "1F9cAEOi46tF6vbzLKuQdjoptFIRxDEuc",
      "authorship_tag": "ABX9TyNvJtBdLCm+8s4WqThHInii",
      "include_colab_link": true
    },
    "kernelspec": {
      "name": "python3",
      "display_name": "Python 3"
    },
    "language_info": {
      "name": "python"
    }
  },
  "cells": [
    {
      "cell_type": "markdown",
      "metadata": {
        "id": "view-in-github",
        "colab_type": "text"
      },
      "source": [
        "<a href=\"https://colab.research.google.com/github/dikraMasrour/Breast_Cancer_Risk_Factor_Prediction_KG/blob/main/Preproc_Modeling.ipynb\" target=\"_parent\"><img src=\"https://colab.research.google.com/assets/colab-badge.svg\" alt=\"Open In Colab\"/></a>"
      ]
    },
    {
      "cell_type": "markdown",
      "source": [
        "## Breast cancer biomedical KG Preprocessing"
      ],
      "metadata": {
        "id": "rGAGns0cCtHK"
      }
    },
    {
      "cell_type": "code",
      "source": [
        "%%capture\n",
        "!pip install torchkge"
      ],
      "metadata": {
        "id": "g6w4CDVys4DB"
      },
      "execution_count": null,
      "outputs": []
    },
    {
      "cell_type": "markdown",
      "source": [
        "#### Mounting drive"
      ],
      "metadata": {
        "id": "zCrxoym3Yrui"
      }
    },
    {
      "cell_type": "code",
      "source": [
        "from google.colab import drive\n",
        "drive.mount('/content/drive')"
      ],
      "metadata": {
        "id": "pq-xsYR32_Yw",
        "colab": {
          "base_uri": "https://localhost:8080/"
        },
        "outputId": "810be78f-458c-435e-80d3-aa5f01186b80"
      },
      "execution_count": 1,
      "outputs": [
        {
          "output_type": "stream",
          "name": "stdout",
          "text": [
            "Drive already mounted at /content/drive; to attempt to forcibly remount, call drive.mount(\"/content/drive\", force_remount=True).\n"
          ]
        }
      ]
    },
    {
      "cell_type": "markdown",
      "source": [
        "#### Imports"
      ],
      "metadata": {
        "id": "9SzHugFQYqZC"
      }
    },
    {
      "cell_type": "code",
      "execution_count": null,
      "metadata": {
        "id": "zPGZsp_8smjJ"
      },
      "outputs": [],
      "source": [
        "# basics\n",
        "import pandas as pd\n",
        "import numpy as np\n",
        "from os.path import join\n",
        "from os import makedirs, remove\n",
        "from os.path import exists\n",
        "from tqdm.autonotebook import tqdm\n",
        "\n",
        "# torchkge related\n",
        "import torch\n",
        "from torch import cuda\n",
        "from torch.optim import Adam\n",
        "from torchkge.models import TransEModel\n",
        "from torchkge.sampling import BernoulliNegativeSampler\n",
        "from torchkge.utils import MarginLoss, DataLoader\n",
        "from torchkge.data_structures import KnowledgeGraph\n",
        "from torchkge.utils import get_data_home\n",
        "from torchkge.utils.operations import extend_dicts\n",
        "from torchkge.evaluation import LinkPredictionEvaluator"
      ]
    },
    {
      "cell_type": "code",
      "source": [
        "# set up cuda if available\n",
        "device = torch.device(\"cuda\" if torch.cuda.is_available() else \"cpu\")\n",
        "device"
      ],
      "metadata": {
        "id": "DwNulX_2twgG"
      },
      "execution_count": null,
      "outputs": []
    },
    {
      "cell_type": "code",
      "source": [
        "dataPath = \"/content/drive/MyDrive/Colab Notebooks/KG_breast_cancer/preprocessed_KG.pkl\"\n",
        "df = pd.read_pickle(dataPath)\n",
        "df.head()"
      ],
      "metadata": {
        "id": "furUAEJm8qYw",
        "colab": {
          "base_uri": "https://localhost:8080/"
        },
        "outputId": "bbaf59e0-5201-429e-87b6-5a271f70b9c4"
      },
      "execution_count": 8,
      "outputs": [
        {
          "output_type": "execute_result",
          "data": {
            "text/plain": [
              "(           rel      from        to\n",
              " 2          ISA  C0318627  C0206590\n",
              " 3          ISA  C0446169  C0003725\n",
              " 4   PROCESS_OF  C0012634  C0020114\n",
              " 5       CAUSES  C0042776  C0012634\n",
              " 12    PRODUCES  C0007523  C0019878, (8279795, 3))"
            ]
          },
          "metadata": {},
          "execution_count": 8
        }
      ]
    },
    {
      "cell_type": "code",
      "source": [
        "df.shape"
      ],
      "metadata": {
        "id": "vDEZCznSCfr8"
      },
      "execution_count": null,
      "outputs": []
    },
    {
      "cell_type": "code",
      "source": [
        "def split(df_):\n",
        "    # group by is used, so the model is able to train on all the nodes\n",
        "    train_df = df_.groupby(['from', 'to']).sample(frac = 0.8) # samples triples from each group\n",
        "    test_val = df_[~df_.index.isin(train_df.index)]\n",
        "    test_df = df_.sample(frac = 0.5)\n",
        "    val_df = test_val[~test_val.index.isin(test_df.index)]\n",
        "    print(train_df.shape, test_df.shape, val_df.shape)\n",
        "    return train_df, test_df, val_df\n"
      ],
      "metadata": {
        "id": "OTXsmkxZ5_pi"
      },
      "execution_count": 9,
      "outputs": []
    },
    {
      "cell_type": "code",
      "source": [
        "train_df, test_df, val_df = split(df)"
      ],
      "metadata": {
        "id": "GIFeWSor9cWX",
        "colab": {
          "base_uri": "https://localhost:8080/"
        },
        "outputId": "bf0b3f32-f8c5-4026-aa51-f35d1e03d9a4"
      },
      "execution_count": 11,
      "outputs": [
        {
          "output_type": "stream",
          "name": "stdout",
          "text": [
            "(7192092, 3) (4139898, 3) (543861, 3)\n"
          ]
        }
      ]
    },
    {
      "cell_type": "code",
      "source": [
        "# save splts as pickle files\n",
        "train_df.to_pickle('/content/drive/MyDrive/Colab Notebooks/KG_breast_cancer/splits/train_df.pkl')\n",
        "test_df.to_pickle('/content/drive/MyDrive/Colab Notebooks/KG_breast_cancer/splits/test_df.pkl')\n",
        "val_df.to_pickle('/content/drive/MyDrive/Colab Notebooks/KG_breast_cancer/splits/val_df.pkl')"
      ],
      "metadata": {
        "id": "q7z2tWxyY0LM"
      },
      "execution_count": 33,
      "outputs": []
    },
    {
      "cell_type": "code",
      "source": [
        "def load_kgs(data_home=None):\n",
        "    data_home = '/content/drive/MyDrive/Colab Notebooks/KG_breast_cancer/splits'\n",
        "    df1 = pd.read_pickle(data_home + '/train_df.pkl')\n",
        "    df2 = pd.read_pickle(data_home + '/val_df.pkl')\n",
        "    df3 = pd.read_pickle(data_home + '/test_df.pkl')\n",
        "    df = pd.concat([df1, df2, df3])\n",
        "    kg = KnowledgeGraph(df)\n",
        "\n",
        "    return kg.split_kg(sizes=(len(df1), len(df2), len(df3)))\n"
      ],
      "metadata": {
        "id": "Rx1hLclp5Vx9"
      },
      "execution_count": 35,
      "outputs": []
    },
    {
      "cell_type": "code",
      "source": [
        "kg_train_path = \"/content/drive/MyDrive/Colab Notebooks/KG_breast_cancer/DATA/kg_train_pickle\"\n",
        "kg_test_path = \"/content/drive/MyDrive/Colab Notebooks/KG_breast_cancer/DATA/kg_test_pickle\"\n",
        "kg_val_path = \"/content/drive/MyDrive/Colab Notebooks/KG_breast_cancer/DATA/kg_val_pickle\""
      ],
      "metadata": {
        "id": "V-56P49OTaNK"
      },
      "execution_count": null,
      "outputs": []
    },
    {
      "cell_type": "code",
      "source": [
        "import pickle\n",
        "file = open(kg_train_path, 'rb')\n",
        "train_data = pickle.load(file)\n",
        "file.close()"
      ],
      "metadata": {
        "id": "9yaokaBjoAIR"
      },
      "execution_count": null,
      "outputs": []
    },
    {
      "cell_type": "code",
      "source": [
        "file = open(kg_test_path, 'rb')\n",
        "test_data = pickle.load(file)\n",
        "file.close()"
      ],
      "metadata": {
        "id": "hHfX6y6nUklL"
      },
      "execution_count": null,
      "outputs": []
    },
    {
      "cell_type": "code",
      "source": [
        "file = open(kg_val_path, 'rb')\n",
        "val_data = pickle.load(file)\n",
        "file.close()"
      ],
      "metadata": {
        "id": "kjwL-KdtUoST"
      },
      "execution_count": null,
      "outputs": []
    },
    {
      "cell_type": "code",
      "source": [
        "# Load dataset\n",
        "kg_train, kg_val, kg_test = load_kgs()"
      ],
      "metadata": {
        "id": "qez_ksbouFcW",
        "colab": {
          "base_uri": "https://localhost:8080/",
          "height": 304
        },
        "outputId": "2e7f568f-08b6-41ed-e277-491195a1781a"
      },
      "execution_count": 36,
      "outputs": [
        {
          "output_type": "error",
          "ename": "NameError",
          "evalue": "ignored",
          "traceback": [
            "\u001b[0;31m---------------------------------------------------------------------------\u001b[0m",
            "\u001b[0;31mNameError\u001b[0m                                 Traceback (most recent call last)",
            "\u001b[0;32m<ipython-input-36-6caba49352fd>\u001b[0m in \u001b[0;36m<module>\u001b[0;34m\u001b[0m\n\u001b[1;32m      1\u001b[0m \u001b[0;31m# Load dataset\u001b[0m\u001b[0;34m\u001b[0m\u001b[0;34m\u001b[0m\u001b[0;34m\u001b[0m\u001b[0m\n\u001b[0;32m----> 2\u001b[0;31m \u001b[0mkg_train\u001b[0m\u001b[0;34m,\u001b[0m \u001b[0mkg_val\u001b[0m\u001b[0;34m,\u001b[0m \u001b[0mkg_test\u001b[0m \u001b[0;34m=\u001b[0m \u001b[0mload_kgs\u001b[0m\u001b[0;34m(\u001b[0m\u001b[0;34m)\u001b[0m\u001b[0;34m\u001b[0m\u001b[0;34m\u001b[0m\u001b[0m\n\u001b[0m",
            "\u001b[0;32m<ipython-input-35-066b2c810983>\u001b[0m in \u001b[0;36mload_kgs\u001b[0;34m(data_home)\u001b[0m\n\u001b[1;32m      5\u001b[0m     \u001b[0mdf3\u001b[0m \u001b[0;34m=\u001b[0m \u001b[0mpd\u001b[0m\u001b[0;34m.\u001b[0m\u001b[0mread_pickle\u001b[0m\u001b[0;34m(\u001b[0m\u001b[0mdata_home\u001b[0m \u001b[0;34m+\u001b[0m \u001b[0;34m'/test_df.pkl'\u001b[0m\u001b[0;34m)\u001b[0m\u001b[0;34m\u001b[0m\u001b[0;34m\u001b[0m\u001b[0m\n\u001b[1;32m      6\u001b[0m     \u001b[0mdf\u001b[0m \u001b[0;34m=\u001b[0m \u001b[0mpd\u001b[0m\u001b[0;34m.\u001b[0m\u001b[0mconcat\u001b[0m\u001b[0;34m(\u001b[0m\u001b[0;34m[\u001b[0m\u001b[0mdf1\u001b[0m\u001b[0;34m,\u001b[0m \u001b[0mdf2\u001b[0m\u001b[0;34m,\u001b[0m \u001b[0mdf3\u001b[0m\u001b[0;34m]\u001b[0m\u001b[0;34m)\u001b[0m\u001b[0;34m\u001b[0m\u001b[0;34m\u001b[0m\u001b[0m\n\u001b[0;32m----> 7\u001b[0;31m     \u001b[0mkg\u001b[0m \u001b[0;34m=\u001b[0m \u001b[0mKnowledgeGraph\u001b[0m\u001b[0;34m(\u001b[0m\u001b[0mdf\u001b[0m\u001b[0;34m)\u001b[0m\u001b[0;34m\u001b[0m\u001b[0;34m\u001b[0m\u001b[0m\n\u001b[0m\u001b[1;32m      8\u001b[0m \u001b[0;34m\u001b[0m\u001b[0m\n\u001b[1;32m      9\u001b[0m     \u001b[0;32mreturn\u001b[0m \u001b[0mkg\u001b[0m\u001b[0;34m.\u001b[0m\u001b[0msplit_kg\u001b[0m\u001b[0;34m(\u001b[0m\u001b[0msizes\u001b[0m\u001b[0;34m=\u001b[0m\u001b[0;34m(\u001b[0m\u001b[0mlen\u001b[0m\u001b[0;34m(\u001b[0m\u001b[0mdf1\u001b[0m\u001b[0;34m)\u001b[0m\u001b[0;34m,\u001b[0m \u001b[0mlen\u001b[0m\u001b[0;34m(\u001b[0m\u001b[0mdf2\u001b[0m\u001b[0;34m)\u001b[0m\u001b[0;34m,\u001b[0m \u001b[0mlen\u001b[0m\u001b[0;34m(\u001b[0m\u001b[0mdf3\u001b[0m\u001b[0;34m)\u001b[0m\u001b[0;34m)\u001b[0m\u001b[0;34m)\u001b[0m\u001b[0;34m\u001b[0m\u001b[0;34m\u001b[0m\u001b[0m\n",
            "\u001b[0;31mNameError\u001b[0m: name 'KnowledgeGraph' is not defined"
          ]
        }
      ]
    },
    {
      "cell_type": "code",
      "source": [
        "class TrainLoop():\n",
        "    def __init__(self, args , kg_train, kg_val, kg_test):\n",
        "        self.n_epochs = args.n_epochs\n",
        "        self.kg_train, self.kg_val, self.kg_test = kg_train, kg_val, kg_test\n",
        "        self.train_dataloader = DataLoader(kg_train, batch_size=args.b_size, use_cuda='all')\n",
        "        self.val_dataloader = DataLoader(kg_val, batch_size=args.b_size, use_cuda='all')\n",
        "        self.test_dataloader = DataLoader(kg_test, batch_size=args.b_size, use_cuda='all')\n",
        "        self.model_path = args.model_path\n",
        "        self.model = TransEModel(args.emb_dim, kg_train.n_ent, kg_train.n_rel, dissimilarity_type='L2')\n",
        "        self.criterion = MarginLoss(args.margin)\n",
        "        # Move everything to CUDA if available\n",
        "        if cuda.is_available():\n",
        "            cuda.empty_cache()\n",
        "            self.model.cuda()\n",
        "            self.criterion.cuda()\n",
        "\n",
        "        # Define the torch optimizer to be used\n",
        "        self.optimizer = Adam(self.model.parameters(), lr=args.lr, weight_decay=1e-5)\n",
        "\n",
        "        self.sampler = BernoulliNegativeSampler(self.kg_train)\n",
        "\n",
        "    def fit_step(self):\n",
        "        running_loss = 0.0\n",
        "        for i, batch in enumerate(self.train_dataloader):\n",
        "            h, t, r = batch[0].to(device), batch[1].to(device), batch[2].to(device)\n",
        "            n_h, n_t = self.sampler.corrupt_batch(h.to('cpu'), t.to('cpu'), r.to('cpu'))\n",
        "            n_h, n_t = n_h.to(device), n_t.to(device)\n",
        "            self.optimizer.zero_grad()\n",
        "\n",
        "            # forward + backward + optimize\n",
        "            pos, neg = self.model(h, t, r, n_h, n_t)\n",
        "            loss = self.criterion(pos, neg)\n",
        "            loss.backward()\n",
        "            self.optimizer.step()\n",
        "\n",
        "            running_loss += loss.item()\n",
        "        return running_loss\n",
        "    def test_step(self):\n",
        "        self.model = torch.load(self.model_path)\n",
        "        self.model.eval()\n",
        "        evaluator = LinkPredictionEvaluator(self.model, self.kg_test)\n",
        "        evaluator.evaluate(200, verbose=True)\n",
        "        evaluator.print_results()\n",
        "\n",
        "    def eval_step(self):\n",
        "        evaluator = LinkPredictionEvaluator(self.model, self.kg_val)\n",
        "        evaluator.evaluate(200, verbose=False)\n",
        "        return evaluator.mrr()[1]\n",
        "\n",
        "    def fit(self):\n",
        "        iterator = tqdm(range(self.n_epochs), unit='epoch')\n",
        "        best_val = -np.inf\n",
        "        patience= 10\n",
        "        patience_count = 0\n",
        "        for epoch in iterator:\n",
        "            running_loss = self.fit_step()\n",
        "            val_ = self.eval_step()\n",
        "\n",
        "            if val_> best_val:\n",
        "                best_val = val_\n",
        "                torch.save(self.model, self.model_path)\n",
        "                patience_count = 0\n",
        "            else:\n",
        "                if patience_count == patience:\n",
        "                    break\n",
        "                else:\n",
        "                    patience_count += 1\n",
        "\n",
        "            iterator.set_description(\n",
        "                'Epoch {} | mean loss: {:.5f}'.format(epoch + 1,\n",
        "                                                      running_loss / len(self.train_dataloader)))\n",
        "\n",
        "        self.model.normalize_parameters()"
      ],
      "metadata": {
        "id": "31lvZ25ttXOJ"
      },
      "execution_count": null,
      "outputs": []
    },
    {
      "cell_type": "code",
      "source": [
        "class Params():\n",
        "    def __init__(self):\n",
        "        pass"
      ],
      "metadata": {
        "id": "cbhAR99GzAcc"
      },
      "execution_count": null,
      "outputs": []
    },
    {
      "cell_type": "code",
      "source": [
        "args = Params()"
      ],
      "metadata": {
        "id": "9rBQ-lsUy80h"
      },
      "execution_count": null,
      "outputs": []
    },
    {
      "cell_type": "code",
      "source": [
        "args.emb_dim = 100\n",
        "args.lr = 0.0004\n",
        "args.n_epochs = 1000\n",
        "args.b_size = 32768\n",
        "args.margin = 0.5\n",
        "args.model_path = join(MODEL_PATH, \"basic.bt\")"
      ],
      "metadata": {
        "id": "wnzL4x3BzKdq"
      },
      "execution_count": null,
      "outputs": []
    },
    {
      "cell_type": "code",
      "source": [
        "tloop = TrainLoop(args, kg_train, kg_val, kg_test)"
      ],
      "metadata": {
        "id": "Ah_LuvIvy6_H"
      },
      "execution_count": null,
      "outputs": []
    },
    {
      "cell_type": "code",
      "source": [
        "tloop.fit()"
      ],
      "metadata": {
        "id": "_lcx2uLR0tEP"
      },
      "execution_count": null,
      "outputs": []
    },
    {
      "cell_type": "code",
      "source": [
        "tloop.test_step()"
      ],
      "metadata": {
        "id": "LhQgeBqm0aS8"
      },
      "execution_count": null,
      "outputs": []
    }
  ]
}